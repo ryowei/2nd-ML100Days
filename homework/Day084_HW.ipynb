{
 "cells": [
  {
   "cell_type": "markdown",
   "metadata": {},
   "source": [
    "## Work\n",
    "### 請結合前面的知識與程式碼，比較不同的 regularization 的組合對訓練的結果與影響：如 dropout, regularizers, batch-normalization 等"
   ]
  },
  {
   "cell_type": "code",
   "execution_count": 1,
   "metadata": {},
   "outputs": [
    {
     "name": "stderr",
     "output_type": "stream",
     "text": [
      "Using TensorFlow backend.\n",
      "/Users/chibaryowei/anaconda3/lib/python3.7/site-packages/tensorflow/python/framework/dtypes.py:516: FutureWarning: Passing (type, 1) or '1type' as a synonym of type is deprecated; in a future version of numpy, it will be understood as (type, (1,)) / '(1,)type'.\n",
      "  _np_qint8 = np.dtype([(\"qint8\", np.int8, 1)])\n",
      "/Users/chibaryowei/anaconda3/lib/python3.7/site-packages/tensorflow/python/framework/dtypes.py:517: FutureWarning: Passing (type, 1) or '1type' as a synonym of type is deprecated; in a future version of numpy, it will be understood as (type, (1,)) / '(1,)type'.\n",
      "  _np_quint8 = np.dtype([(\"quint8\", np.uint8, 1)])\n",
      "/Users/chibaryowei/anaconda3/lib/python3.7/site-packages/tensorflow/python/framework/dtypes.py:518: FutureWarning: Passing (type, 1) or '1type' as a synonym of type is deprecated; in a future version of numpy, it will be understood as (type, (1,)) / '(1,)type'.\n",
      "  _np_qint16 = np.dtype([(\"qint16\", np.int16, 1)])\n",
      "/Users/chibaryowei/anaconda3/lib/python3.7/site-packages/tensorflow/python/framework/dtypes.py:519: FutureWarning: Passing (type, 1) or '1type' as a synonym of type is deprecated; in a future version of numpy, it will be understood as (type, (1,)) / '(1,)type'.\n",
      "  _np_quint16 = np.dtype([(\"quint16\", np.uint16, 1)])\n",
      "/Users/chibaryowei/anaconda3/lib/python3.7/site-packages/tensorflow/python/framework/dtypes.py:520: FutureWarning: Passing (type, 1) or '1type' as a synonym of type is deprecated; in a future version of numpy, it will be understood as (type, (1,)) / '(1,)type'.\n",
      "  _np_qint32 = np.dtype([(\"qint32\", np.int32, 1)])\n",
      "/Users/chibaryowei/anaconda3/lib/python3.7/site-packages/tensorflow/python/framework/dtypes.py:525: FutureWarning: Passing (type, 1) or '1type' as a synonym of type is deprecated; in a future version of numpy, it will be understood as (type, (1,)) / '(1,)type'.\n",
      "  np_resource = np.dtype([(\"resource\", np.ubyte, 1)])\n",
      "/Users/chibaryowei/anaconda3/lib/python3.7/site-packages/tensorboard/compat/tensorflow_stub/dtypes.py:541: FutureWarning: Passing (type, 1) or '1type' as a synonym of type is deprecated; in a future version of numpy, it will be understood as (type, (1,)) / '(1,)type'.\n",
      "  _np_qint8 = np.dtype([(\"qint8\", np.int8, 1)])\n",
      "/Users/chibaryowei/anaconda3/lib/python3.7/site-packages/tensorboard/compat/tensorflow_stub/dtypes.py:542: FutureWarning: Passing (type, 1) or '1type' as a synonym of type is deprecated; in a future version of numpy, it will be understood as (type, (1,)) / '(1,)type'.\n",
      "  _np_quint8 = np.dtype([(\"quint8\", np.uint8, 1)])\n",
      "/Users/chibaryowei/anaconda3/lib/python3.7/site-packages/tensorboard/compat/tensorflow_stub/dtypes.py:543: FutureWarning: Passing (type, 1) or '1type' as a synonym of type is deprecated; in a future version of numpy, it will be understood as (type, (1,)) / '(1,)type'.\n",
      "  _np_qint16 = np.dtype([(\"qint16\", np.int16, 1)])\n",
      "/Users/chibaryowei/anaconda3/lib/python3.7/site-packages/tensorboard/compat/tensorflow_stub/dtypes.py:544: FutureWarning: Passing (type, 1) or '1type' as a synonym of type is deprecated; in a future version of numpy, it will be understood as (type, (1,)) / '(1,)type'.\n",
      "  _np_quint16 = np.dtype([(\"quint16\", np.uint16, 1)])\n",
      "/Users/chibaryowei/anaconda3/lib/python3.7/site-packages/tensorboard/compat/tensorflow_stub/dtypes.py:545: FutureWarning: Passing (type, 1) or '1type' as a synonym of type is deprecated; in a future version of numpy, it will be understood as (type, (1,)) / '(1,)type'.\n",
      "  _np_qint32 = np.dtype([(\"qint32\", np.int32, 1)])\n",
      "/Users/chibaryowei/anaconda3/lib/python3.7/site-packages/tensorboard/compat/tensorflow_stub/dtypes.py:550: FutureWarning: Passing (type, 1) or '1type' as a synonym of type is deprecated; in a future version of numpy, it will be understood as (type, (1,)) / '(1,)type'.\n",
      "  np_resource = np.dtype([(\"resource\", np.ubyte, 1)])\n"
     ]
    }
   ],
   "source": [
    "import os\n",
    "import keras\n",
    "import itertools\n",
    "# Disable GPU\n",
    "os.environ[\"CUDA_VISIBLE_DEVICES\"] = \"\""
   ]
  },
  {
   "cell_type": "code",
   "execution_count": 2,
   "metadata": {},
   "outputs": [],
   "source": [
    "train, test = keras.datasets.cifar10.load_data()"
   ]
  },
  {
   "cell_type": "code",
   "execution_count": 3,
   "metadata": {},
   "outputs": [],
   "source": [
    "## 資料前處理\n",
    "def preproc_x(x, flatten=True):\n",
    "    x = x / 255.\n",
    "    if flatten:\n",
    "        x = x.reshape((len(x), -1))\n",
    "    return x\n",
    "\n",
    "def preproc_y(y, num_classes=10):\n",
    "    if y.shape[-1] == 1:\n",
    "        y = keras.utils.to_categorical(y, num_classes)\n",
    "    return y    "
   ]
  },
  {
   "cell_type": "code",
   "execution_count": 4,
   "metadata": {},
   "outputs": [],
   "source": [
    "x_train, y_train = train\n",
    "x_test, y_test = test\n",
    "\n",
    "# Preproc the inputs\n",
    "x_train = preproc_x(x_train)\n",
    "x_test = preproc_x(x_test)\n",
    "\n",
    "# Preprc the outputs\n",
    "y_train = preproc_y(y_train)\n",
    "y_test = preproc_y(y_test)"
   ]
  },
  {
   "cell_type": "code",
   "execution_count": 5,
   "metadata": {},
   "outputs": [],
   "source": [
    "from keras.layers import BatchNormalization\n",
    "from keras.layers import Dropout\n",
    "from keras.regularizers import l1, l2, l1_l2\n",
    "\"\"\"\n",
    "建立神經網路，並加入 BN layer\n",
    "\"\"\"\n",
    "def build_mlp(input_shape, output_units=10, num_neurons=[512, 256, 128], l2_ratio=1e-4):\n",
    "    input_layer = keras.layers.Input(input_shape)\n",
    "    \n",
    "    for i, n_units in enumerate(num_neurons):\n",
    "        if i == 0:\n",
    "            x = keras.layers.Dense(units=n_units, \n",
    "                                   activation=\"relu\", \n",
    "                                   name=\"hidden_layer\"+str(i+1))(input_layer)\n",
    "            x = BatchNormalization()(x)\n",
    "        else:\n",
    "            x = keras.layers.Dense(units=n_units, \n",
    "                                   activation=\"relu\", \n",
    "                                   name=\"hidden_layer\"+str(i+1))(x)\n",
    "            x = BatchNormalization()(x)\n",
    "    \n",
    "    out = keras.layers.Dense(units=output_units, activation=\"softmax\", name=\"output\")(x)\n",
    "    \n",
    "    model = keras.models.Model(inputs=[input_layer], outputs=[out])\n",
    "    return model"
   ]
  },
  {
   "cell_type": "code",
   "execution_count": 6,
   "metadata": {},
   "outputs": [],
   "source": [
    "## 超參數設定\n",
    "LEARNING_RATE = 1e-3\n",
    "EPOCHS = 50\n",
    "BATCH_SIZE = 256\n",
    "MOMENTUM = 0.95\n",
    "L2_EXP = [1e-2, 1e-4, 1e-8, 1e-12]"
   ]
  },
  {
   "cell_type": "code",
   "execution_count": 7,
   "metadata": {
    "scrolled": true
   },
   "outputs": [
    {
     "name": "stderr",
     "output_type": "stream",
     "text": [
      "WARNING: Logging before flag parsing goes to stderr.\n",
      "W0719 21:58:04.602082 4720215488 deprecation_wrapper.py:119] From /Users/chibaryowei/anaconda3/lib/python3.7/site-packages/keras/backend/tensorflow_backend.py:74: The name tf.get_default_graph is deprecated. Please use tf.compat.v1.get_default_graph instead.\n",
      "\n",
      "W0719 21:58:04.642882 4720215488 deprecation_wrapper.py:119] From /Users/chibaryowei/anaconda3/lib/python3.7/site-packages/keras/backend/tensorflow_backend.py:517: The name tf.placeholder is deprecated. Please use tf.compat.v1.placeholder instead.\n",
      "\n",
      "W0719 21:58:04.654863 4720215488 deprecation_wrapper.py:119] From /Users/chibaryowei/anaconda3/lib/python3.7/site-packages/keras/backend/tensorflow_backend.py:4138: The name tf.random_uniform is deprecated. Please use tf.random.uniform instead.\n",
      "\n",
      "W0719 21:58:04.766860 4720215488 deprecation_wrapper.py:119] From /Users/chibaryowei/anaconda3/lib/python3.7/site-packages/keras/backend/tensorflow_backend.py:133: The name tf.placeholder_with_default is deprecated. Please use tf.compat.v1.placeholder_with_default instead.\n",
      "\n",
      "W0719 21:58:05.201858 4720215488 deprecation_wrapper.py:119] From /Users/chibaryowei/anaconda3/lib/python3.7/site-packages/keras/optimizers.py:790: The name tf.train.Optimizer is deprecated. Please use tf.compat.v1.train.Optimizer instead.\n",
      "\n",
      "W0719 21:58:05.217761 4720215488 deprecation_wrapper.py:119] From /Users/chibaryowei/anaconda3/lib/python3.7/site-packages/keras/backend/tensorflow_backend.py:3295: The name tf.log is deprecated. Please use tf.math.log instead.\n",
      "\n",
      "W0719 21:58:05.378202 4720215488 deprecation.py:323] From /Users/chibaryowei/anaconda3/lib/python3.7/site-packages/tensorflow/python/ops/math_grad.py:1250: add_dispatch_support.<locals>.wrapper (from tensorflow.python.ops.array_ops) is deprecated and will be removed in a future version.\n",
      "Instructions for updating:\n",
      "Use tf.where in 2.0, which has the same broadcast rule as np.where\n"
     ]
    },
    {
     "name": "stdout",
     "output_type": "stream",
     "text": [
      "_________________________________________________________________\n",
      "Layer (type)                 Output Shape              Param #   \n",
      "=================================================================\n",
      "input_1 (InputLayer)         (None, 3072)              0         \n",
      "_________________________________________________________________\n",
      "hidden_layer1 (Dense)        (None, 512)               1573376   \n",
      "_________________________________________________________________\n",
      "batch_normalization_1 (Batch (None, 512)               2048      \n",
      "_________________________________________________________________\n",
      "hidden_layer2 (Dense)        (None, 256)               131328    \n",
      "_________________________________________________________________\n",
      "batch_normalization_2 (Batch (None, 256)               1024      \n",
      "_________________________________________________________________\n",
      "hidden_layer3 (Dense)        (None, 128)               32896     \n",
      "_________________________________________________________________\n",
      "batch_normalization_3 (Batch (None, 128)               512       \n",
      "_________________________________________________________________\n",
      "output (Dense)               (None, 10)                1290      \n",
      "=================================================================\n",
      "Total params: 1,742,474\n",
      "Trainable params: 1,740,682\n",
      "Non-trainable params: 1,792\n",
      "_________________________________________________________________\n",
      "Train on 50000 samples, validate on 10000 samples\n",
      "Epoch 1/50\n",
      "50000/50000 [==============================] - 11s 222us/step - loss: 1.8605 - acc: 0.3567 - val_loss: 1.7188 - val_acc: 0.3945\n",
      "Epoch 2/50\n",
      "50000/50000 [==============================] - 9s 189us/step - loss: 1.5443 - acc: 0.4562 - val_loss: 1.6037 - val_acc: 0.4391\n",
      "Epoch 3/50\n",
      "50000/50000 [==============================] - 11s 214us/step - loss: 1.4396 - acc: 0.4944 - val_loss: 1.5682 - val_acc: 0.4380\n",
      "Epoch 4/50\n",
      "50000/50000 [==============================] - 11s 219us/step - loss: 1.3686 - acc: 0.5208 - val_loss: 1.5409 - val_acc: 0.4587\n",
      "Epoch 5/50\n",
      "50000/50000 [==============================] - 13s 251us/step - loss: 1.3108 - acc: 0.5395 - val_loss: 1.4681 - val_acc: 0.4825\n",
      "Epoch 6/50\n",
      "50000/50000 [==============================] - 11s 220us/step - loss: 1.2575 - acc: 0.5596 - val_loss: 1.5137 - val_acc: 0.4715\n",
      "Epoch 7/50\n",
      "50000/50000 [==============================] - 10s 197us/step - loss: 1.2117 - acc: 0.5774 - val_loss: 1.5196 - val_acc: 0.4683\n",
      "Epoch 8/50\n",
      "50000/50000 [==============================] - 11s 218us/step - loss: 1.1702 - acc: 0.5900 - val_loss: 1.5043 - val_acc: 0.4741\n",
      "Epoch 9/50\n",
      "50000/50000 [==============================] - 11s 215us/step - loss: 1.1328 - acc: 0.6047 - val_loss: 1.4805 - val_acc: 0.4866\n",
      "Epoch 10/50\n",
      "50000/50000 [==============================] - 11s 221us/step - loss: 1.0930 - acc: 0.6194 - val_loss: 1.5213 - val_acc: 0.4720\n",
      "Epoch 11/50\n",
      "50000/50000 [==============================] - 10s 209us/step - loss: 1.0531 - acc: 0.6359 - val_loss: 1.4700 - val_acc: 0.4957\n",
      "Epoch 12/50\n",
      "50000/50000 [==============================] - 10s 209us/step - loss: 1.0176 - acc: 0.6449 - val_loss: 1.4751 - val_acc: 0.4907\n",
      "Epoch 13/50\n",
      "50000/50000 [==============================] - 11s 215us/step - loss: 0.9806 - acc: 0.6612 - val_loss: 1.5484 - val_acc: 0.4740\n",
      "Epoch 14/50\n",
      "50000/50000 [==============================] - 10s 207us/step - loss: 0.9547 - acc: 0.6698 - val_loss: 1.5279 - val_acc: 0.4739\n",
      "Epoch 15/50\n",
      "50000/50000 [==============================] - 12s 248us/step - loss: 0.9193 - acc: 0.6838 - val_loss: 1.4998 - val_acc: 0.4873\n",
      "Epoch 16/50\n",
      "50000/50000 [==============================] - 11s 210us/step - loss: 0.8863 - acc: 0.6939 - val_loss: 1.5839 - val_acc: 0.4712\n",
      "Epoch 17/50\n",
      "50000/50000 [==============================] - 9s 189us/step - loss: 0.8594 - acc: 0.7048 - val_loss: 1.5597 - val_acc: 0.4758\n",
      "Epoch 18/50\n",
      "50000/50000 [==============================] - 10s 192us/step - loss: 0.8305 - acc: 0.7149 - val_loss: 1.6073 - val_acc: 0.4804\n",
      "Epoch 19/50\n",
      "50000/50000 [==============================] - 11s 217us/step - loss: 0.7946 - acc: 0.7283 - val_loss: 1.5612 - val_acc: 0.4795\n",
      "Epoch 20/50\n",
      "50000/50000 [==============================] - 12s 247us/step - loss: 0.7669 - acc: 0.7390 - val_loss: 1.6430 - val_acc: 0.4692\n",
      "Epoch 21/50\n",
      "50000/50000 [==============================] - 12s 238us/step - loss: 0.7344 - acc: 0.7514 - val_loss: 1.6237 - val_acc: 0.4778\n",
      "Epoch 22/50\n",
      "50000/50000 [==============================] - 11s 212us/step - loss: 0.7087 - acc: 0.7585 - val_loss: 1.6891 - val_acc: 0.4722\n",
      "Epoch 23/50\n",
      "50000/50000 [==============================] - 10s 194us/step - loss: 0.6789 - acc: 0.7694 - val_loss: 1.7572 - val_acc: 0.4691\n",
      "Epoch 24/50\n",
      "50000/50000 [==============================] - 9s 188us/step - loss: 0.6522 - acc: 0.7800 - val_loss: 1.7240 - val_acc: 0.4751\n",
      "Epoch 25/50\n",
      "50000/50000 [==============================] - 11s 214us/step - loss: 0.6264 - acc: 0.7897 - val_loss: 1.7353 - val_acc: 0.4776\n",
      "Epoch 26/50\n",
      "50000/50000 [==============================] - 9s 188us/step - loss: 0.5984 - acc: 0.7986 - val_loss: 1.8232 - val_acc: 0.4653\n",
      "Epoch 27/50\n",
      "50000/50000 [==============================] - 10s 196us/step - loss: 0.5767 - acc: 0.8078 - val_loss: 1.8180 - val_acc: 0.4642\n",
      "Epoch 28/50\n",
      "50000/50000 [==============================] - 11s 215us/step - loss: 0.5471 - acc: 0.8177 - val_loss: 1.8472 - val_acc: 0.4758\n",
      "Epoch 29/50\n",
      "50000/50000 [==============================] - 15s 295us/step - loss: 0.5226 - acc: 0.8271 - val_loss: 1.8638 - val_acc: 0.4600\n",
      "Epoch 30/50\n",
      "50000/50000 [==============================] - 12s 245us/step - loss: 0.4987 - acc: 0.8357 - val_loss: 1.8521 - val_acc: 0.4654\n",
      "Epoch 31/50\n",
      "50000/50000 [==============================] - 16s 329us/step - loss: 0.4754 - acc: 0.8450 - val_loss: 1.8836 - val_acc: 0.4645\n",
      "Epoch 32/50\n",
      "50000/50000 [==============================] - 15s 298us/step - loss: 0.4470 - acc: 0.8560 - val_loss: 2.0294 - val_acc: 0.4636\n",
      "Epoch 33/50\n",
      "50000/50000 [==============================] - 16s 319us/step - loss: 0.4297 - acc: 0.8620 - val_loss: 1.9484 - val_acc: 0.4723\n",
      "Epoch 34/50\n",
      "50000/50000 [==============================] - 16s 314us/step - loss: 0.4087 - acc: 0.8688 - val_loss: 2.0394 - val_acc: 0.4741\n",
      "Epoch 35/50\n",
      "50000/50000 [==============================] - 14s 271us/step - loss: 0.3909 - acc: 0.8769 - val_loss: 2.1207 - val_acc: 0.4639\n",
      "Epoch 36/50\n",
      "50000/50000 [==============================] - 15s 306us/step - loss: 0.3680 - acc: 0.8848 - val_loss: 2.0416 - val_acc: 0.4692\n",
      "Epoch 37/50\n",
      "50000/50000 [==============================] - 16s 319us/step - loss: 0.3530 - acc: 0.8910 - val_loss: 2.0657 - val_acc: 0.4734\n",
      "Epoch 38/50\n",
      "50000/50000 [==============================] - 17s 346us/step - loss: 0.3311 - acc: 0.8954 - val_loss: 2.1394 - val_acc: 0.4712\n",
      "Epoch 39/50\n",
      "50000/50000 [==============================] - 17s 343us/step - loss: 0.3198 - acc: 0.9015 - val_loss: 2.1052 - val_acc: 0.4755\n",
      "Epoch 40/50\n",
      "50000/50000 [==============================] - 15s 291us/step - loss: 0.3031 - acc: 0.9065 - val_loss: 2.2046 - val_acc: 0.4576\n",
      "Epoch 41/50\n",
      "50000/50000 [==============================] - 12s 243us/step - loss: 0.2831 - acc: 0.9153 - val_loss: 2.2617 - val_acc: 0.4592\n",
      "Epoch 42/50\n",
      "50000/50000 [==============================] - 10s 203us/step - loss: 0.2723 - acc: 0.9187 - val_loss: 2.1542 - val_acc: 0.4778\n",
      "Epoch 43/50\n",
      "50000/50000 [==============================] - 10s 208us/step - loss: 0.2576 - acc: 0.9220 - val_loss: 2.3397 - val_acc: 0.4509\n",
      "Epoch 44/50\n",
      "50000/50000 [==============================] - 10s 195us/step - loss: 0.2378 - acc: 0.9316 - val_loss: 2.2782 - val_acc: 0.4613\n",
      "Epoch 45/50\n",
      "50000/50000 [==============================] - 10s 198us/step - loss: 0.2255 - acc: 0.9346 - val_loss: 2.4388 - val_acc: 0.4486\n",
      "Epoch 46/50\n",
      "50000/50000 [==============================] - 10s 203us/step - loss: 0.2175 - acc: 0.9372 - val_loss: 2.4116 - val_acc: 0.4670\n",
      "Epoch 47/50\n",
      "50000/50000 [==============================] - 11s 218us/step - loss: 0.2053 - acc: 0.9421 - val_loss: 2.3708 - val_acc: 0.4723\n",
      "Epoch 48/50\n",
      "50000/50000 [==============================] - 10s 201us/step - loss: 0.2046 - acc: 0.9406 - val_loss: 2.3569 - val_acc: 0.4685\n",
      "Epoch 49/50\n"
     ]
    },
    {
     "name": "stdout",
     "output_type": "stream",
     "text": [
      "50000/50000 [==============================] - 10s 203us/step - loss: 0.1840 - acc: 0.9490 - val_loss: 2.3482 - val_acc: 0.4745\n",
      "Epoch 50/50\n",
      "50000/50000 [==============================] - 10s 194us/step - loss: 0.1753 - acc: 0.9516 - val_loss: 2.3838 - val_acc: 0.4722\n"
     ]
    }
   ],
   "source": [
    "model = build_mlp(input_shape=x_train.shape[1:])\n",
    "model.summary()\n",
    "optimizer = keras.optimizers.SGD(lr=LEARNING_RATE, nesterov=True, momentum=MOMENTUM)\n",
    "model.compile(loss=\"categorical_crossentropy\", metrics=[\"accuracy\"], optimizer=optimizer)\n",
    "\n",
    "model.fit(x_train, y_train, \n",
    "          epochs=EPOCHS, \n",
    "          batch_size=BATCH_SIZE, \n",
    "          validation_data=(x_test, y_test), \n",
    "          shuffle=True)\n",
    "\n",
    "# Collect results\n",
    "train_loss = model.history.history[\"loss\"]\n",
    "valid_loss = model.history.history[\"val_loss\"]\n",
    "train_acc = model.history.history[\"acc\"]\n",
    "valid_acc = model.history.history[\"val_acc\"]"
   ]
  },
  {
   "cell_type": "code",
   "execution_count": 8,
   "metadata": {},
   "outputs": [
    {
     "data": {
      "image/png": "[encoded data removed]",
      "text/plain": [
       "<Figure size 432x288 with 1 Axes>"
      ]
     },
     "metadata": {
      "needs_background": "light"
     },
     "output_type": "display_data"
    },
    {
     "data": {
      "image/png": "[encoded data removed]",
      "text/plain": [
       "<Figure size 432x288 with 1 Axes>"
      ]
     },
     "metadata": {
      "needs_background": "light"
     },
     "output_type": "display_data"
    }
   ],
   "source": [
    "\n",
    "import matplotlib.pyplot as plt\n",
    "%matplotlib inline\n",
    "\n",
    "plt.plot(range(len(train_loss)), train_loss, label=\"train loss\")\n",
    "plt.plot(range(len(valid_loss)), valid_loss, label=\"valid loss\")\n",
    "plt.legend()\n",
    "plt.title(\"Loss\")\n",
    "plt.show()\n",
    "\n",
    "plt.plot(range(len(train_acc)), train_acc, label=\"train accuracy\")\n",
    "plt.plot(range(len(valid_acc)), valid_acc, label=\"valid accuracy\")\n",
    "plt.legend()\n",
    "plt.title(\"Accuracy\")\n",
    "plt.show()"
   ]
  },
  {
   "cell_type": "code",
   "execution_count": null,
   "metadata": {},
   "outputs": [],
   "source": []
  }
 ],
 "metadata": {
  "kernelspec": {
   "display_name": "Python 3",
   "language": "python",
   "name": "python3"
  },
  "language_info": {
   "codemirror_mode": {
    "name": "ipython",
    "version": 3
   },
   "file_extension": ".py",
   "mimetype": "text/x-python",
   "name": "python",
   "nbconvert_exporter": "python",
   "pygments_lexer": "ipython3",
   "version": "3.7.3"
  }
 },
 "nbformat": 4,
 "nbformat_minor": 2
}
