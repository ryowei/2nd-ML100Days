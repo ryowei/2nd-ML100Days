{
 "cells": [
  {
   "cell_type": "markdown",
   "metadata": {},
   "source": [
    "## Work\n",
    "1. 請嘗試將 preproc_x 替換成以每筆資料的 min/max 進行標準化至 -1 ~ 1 間，再進行訓練\n",
    "2. 請嘗試將 mlp 疊更深 (e.g 5~10 層)，進行訓練後觀察 learning curve 的走勢\n",
    "3. (optional) 請改用 GPU 進行訓練 (如果你有 GPU 的話)，比較使用 CPU 與 GPU 的訓練速度"
   ]
  },
  {
   "cell_type": "code",
   "execution_count": 1,
   "metadata": {},
   "outputs": [
    {
     "name": "stdout",
     "output_type": "stream",
     "text": [
      "/bin/sh: nvidia-smi: command not found\r\n"
     ]
    }
   ],
   "source": [
    "## \n",
    "\"\"\"\n",
    "Your code here (optional)\n",
    "確認硬體資源\n",
    "\"\"\"\n",
    "!nvidia-smi"
   ]
  },
  {
   "cell_type": "code",
   "execution_count": 6,
   "metadata": {},
   "outputs": [],
   "source": [
    "import os\n",
    "import keras\n",
    "\n",
    "# 請嘗試設定 GPU：os.environ\n",
    "os.environ[\"CUDA_VISIBLE_DEVICES\"] = \"\""
   ]
  },
  {
   "cell_type": "code",
   "execution_count": 7,
   "metadata": {},
   "outputs": [],
   "source": [
    "train, test = keras.datasets.cifar10.load_data()"
   ]
  },
  {
   "cell_type": "code",
   "execution_count": 8,
   "metadata": {},
   "outputs": [],
   "source": [
    "## 資料前處理\n",
    "\"\"\"\n",
    "Your code here\n",
    "\"\"\"\n",
    "def preproc_x(x, flatten=True):\n",
    "    x = x / 255.\n",
    "    if flatten:\n",
    "        x = x.reshape((len(x), -1))\n",
    "    return x\n",
    "\n",
    "def preproc_y(y, num_classes=10):\n",
    "    if y.shape[-1] == 1:\n",
    "        y = keras.utils.to_categorical(y, num_classes)\n",
    "    return y   "
   ]
  },
  {
   "cell_type": "code",
   "execution_count": 11,
   "metadata": {},
   "outputs": [],
   "source": [
    "x_train, y_train = train\n",
    "x_test, y_test = test\n",
    "\n",
    "# Preproc the inputs\n",
    "x_train = preproc_x(x_train)\n",
    "x_test = preproc_x(x_test)\n",
    "\n",
    "# Preprc the outputs\n",
    "y_train = preproc_y(y_train)\n",
    "y_test = preproc_y(y_test)"
   ]
  },
  {
   "cell_type": "code",
   "execution_count": 10,
   "metadata": {},
   "outputs": [
    {
     "ename": "NameError",
     "evalue": "name 'model' is not defined",
     "output_type": "error",
     "traceback": [
      "\u001b[0;31m---------------------------------------------------------------------------\u001b[0m",
      "\u001b[0;31mNameError\u001b[0m                                 Traceback (most recent call last)",
      "\u001b[0;32m<ipython-input-10-de08ef73e4a2>\u001b[0m in \u001b[0;36m<module>\u001b[0;34m\u001b[0m\n\u001b[1;32m     18\u001b[0m     \u001b[0;32mreturn\u001b[0m \u001b[0mmodel\u001b[0m\u001b[0;34m\u001b[0m\u001b[0;34m\u001b[0m\u001b[0m\n\u001b[1;32m     19\u001b[0m \u001b[0;34m\u001b[0m\u001b[0m\n\u001b[0;32m---> 20\u001b[0;31m \u001b[0mmodel\u001b[0m\u001b[0;34m.\u001b[0m\u001b[0msummary\u001b[0m\u001b[0;34m(\u001b[0m\u001b[0;34m)\u001b[0m\u001b[0;34m\u001b[0m\u001b[0;34m\u001b[0m\u001b[0m\n\u001b[0m",
      "\u001b[0;31mNameError\u001b[0m: name 'model' is not defined"
     ]
    }
   ],
   "source": [
    "\"\"\"Code Here\n",
    "建立你的神經網路\n",
    "\"\"\"\n",
    "def build_mlp(input_shape, output_units = 10, num_neurons=[512, 256, 128]):\n",
    "    \n",
    "    input_layer = keras.layers.Input(input_shape)\n",
    "    \n",
    "    for i, n_units in enumerate(num_neurons):\n",
    "        if i == 0:\n",
    "            x = keras.layers.Dense(units=n_units, activation=\"relu\", name=\"hidden_layer\"+str(i+1))(input_layer)\n",
    "        else:\n",
    "            x = keras.layers.Dense(units=n_units, activation=\"relu\", name=\"hidden_layer\"+str(i+1))(x)\n",
    "    \n",
    "    out = keras.layers.Dense(units=output_units, activation=\"softmax\", name=\"output\")(x)\n",
    "    \n",
    "    model = keras.models.Model(inputs=[input_layer], outputs=[out])\n",
    "    \n",
    "    return model\n",
    "\n"
   ]
  },
  {
   "cell_type": "code",
   "execution_count": 17,
   "metadata": {},
   "outputs": [
    {
     "name": "stdout",
     "output_type": "stream",
     "text": [
      "_________________________________________________________________\n",
      "Layer (type)                 Output Shape              Param #   \n",
      "=================================================================\n",
      "input_4 (InputLayer)         (None, 3072)              0         \n",
      "_________________________________________________________________\n",
      "hidden_layer1 (Dense)        (None, 512)               1573376   \n",
      "_________________________________________________________________\n",
      "hidden_layer2 (Dense)        (None, 256)               131328    \n",
      "_________________________________________________________________\n",
      "hidden_layer3 (Dense)        (None, 128)               32896     \n",
      "_________________________________________________________________\n",
      "hidden_layer4 (Dense)        (None, 128)               16512     \n",
      "_________________________________________________________________\n",
      "hidden_layer5 (Dense)        (None, 128)               16512     \n",
      "_________________________________________________________________\n",
      "hidden_layer6 (Dense)        (None, 256)               33024     \n",
      "_________________________________________________________________\n",
      "hidden_layer7 (Dense)        (None, 256)               65792     \n",
      "_________________________________________________________________\n",
      "hidden_layer8 (Dense)        (None, 128)               32896     \n",
      "_________________________________________________________________\n",
      "hidden_layer9 (Dense)        (None, 512)               66048     \n",
      "_________________________________________________________________\n",
      "output (Dense)               (None, 10)                5130      \n",
      "=================================================================\n",
      "Total params: 1,973,514\n",
      "Trainable params: 1,973,514\n",
      "Non-trainable params: 0\n",
      "_________________________________________________________________\n"
     ]
    }
   ],
   "source": [
    "model = build_mlp(input_shape = x_train.shape[1:], num_neurons=[512, 256, 128, 128, 128, 256, 256, 128, 512])\n",
    "model.summary()"
   ]
  },
  {
   "cell_type": "code",
   "execution_count": 18,
   "metadata": {},
   "outputs": [],
   "source": [
    "## 超參數設定\n",
    "LEARNING_RATE = 0.001\n",
    "EPOCHS = 100\n",
    "BATCH_SIZE = 256"
   ]
  },
  {
   "cell_type": "code",
   "execution_count": 19,
   "metadata": {},
   "outputs": [
    {
     "name": "stderr",
     "output_type": "stream",
     "text": [
      "W0714 13:01:14.101300 4649358784 deprecation_wrapper.py:119] From /Users/chibaryowei/anaconda3/lib/python3.7/site-packages/keras/optimizers.py:790: The name tf.train.Optimizer is deprecated. Please use tf.compat.v1.train.Optimizer instead.\n",
      "\n",
      "W0714 13:01:14.113721 4649358784 deprecation_wrapper.py:119] From /Users/chibaryowei/anaconda3/lib/python3.7/site-packages/keras/backend/tensorflow_backend.py:3295: The name tf.log is deprecated. Please use tf.math.log instead.\n",
      "\n"
     ]
    }
   ],
   "source": [
    "optimizer = keras.optimizers.Adam(lr=LEARNING_RATE)\n",
    "model.compile(loss=\"categorical_crossentropy\", metrics=[\"accuracy\"], optimizer=optimizer)"
   ]
  },
  {
   "cell_type": "code",
   "execution_count": 20,
   "metadata": {},
   "outputs": [
    {
     "name": "stderr",
     "output_type": "stream",
     "text": [
      "W0714 13:01:20.612026 4649358784 deprecation.py:323] From /Users/chibaryowei/anaconda3/lib/python3.7/site-packages/tensorflow/python/ops/math_grad.py:1250: add_dispatch_support.<locals>.wrapper (from tensorflow.python.ops.array_ops) is deprecated and will be removed in a future version.\n",
      "Instructions for updating:\n",
      "Use tf.where in 2.0, which has the same broadcast rule as np.where\n",
      "W0714 13:01:20.706870 4649358784 deprecation_wrapper.py:119] From /Users/chibaryowei/anaconda3/lib/python3.7/site-packages/keras/backend/tensorflow_backend.py:986: The name tf.assign_add is deprecated. Please use tf.compat.v1.assign_add instead.\n",
      "\n"
     ]
    },
    {
     "name": "stdout",
     "output_type": "stream",
     "text": [
      "Train on 50000 samples, validate on 10000 samples\n",
      "Epoch 1/100\n",
      "50000/50000 [==============================] - 15s 292us/step - loss: 1.9858 - acc: 0.2581 - val_loss: 1.8160 - val_acc: 0.3423\n",
      "Epoch 2/100\n",
      "50000/50000 [==============================] - 11s 227us/step - loss: 1.7787 - acc: 0.3527 - val_loss: 1.7669 - val_acc: 0.3524\n",
      "Epoch 3/100\n",
      "50000/50000 [==============================] - 14s 285us/step - loss: 1.7035 - acc: 0.3804 - val_loss: 1.7129 - val_acc: 0.3800\n",
      "Epoch 4/100\n",
      "50000/50000 [==============================] - 15s 292us/step - loss: 1.6541 - acc: 0.4005 - val_loss: 1.5724 - val_acc: 0.4328\n",
      "Epoch 5/100\n",
      "50000/50000 [==============================] - 16s 311us/step - loss: 1.5732 - acc: 0.4309 - val_loss: 1.5537 - val_acc: 0.4461\n",
      "Epoch 6/100\n",
      "50000/50000 [==============================] - 15s 292us/step - loss: 1.5373 - acc: 0.4456 - val_loss: 1.5488 - val_acc: 0.4480\n",
      "Epoch 7/100\n",
      "50000/50000 [==============================] - 12s 245us/step - loss: 1.4982 - acc: 0.4603 - val_loss: 1.5092 - val_acc: 0.4585\n",
      "Epoch 8/100\n",
      "50000/50000 [==============================] - 12s 235us/step - loss: 1.4691 - acc: 0.4729 - val_loss: 1.5023 - val_acc: 0.4609\n",
      "Epoch 9/100\n",
      "50000/50000 [==============================] - 14s 288us/step - loss: 1.4310 - acc: 0.4874 - val_loss: 1.4661 - val_acc: 0.4819\n",
      "Epoch 10/100\n",
      "50000/50000 [==============================] - 17s 332us/step - loss: 1.4076 - acc: 0.4926 - val_loss: 1.4594 - val_acc: 0.4773\n",
      "Epoch 11/100\n",
      "50000/50000 [==============================] - 14s 276us/step - loss: 1.3783 - acc: 0.5060 - val_loss: 1.4552 - val_acc: 0.4819\n",
      "Epoch 12/100\n",
      "50000/50000 [==============================] - 16s 327us/step - loss: 1.3437 - acc: 0.5170 - val_loss: 1.4150 - val_acc: 0.4976\n",
      "Epoch 13/100\n",
      "50000/50000 [==============================] - 13s 251us/step - loss: 1.3279 - acc: 0.5248 - val_loss: 1.4178 - val_acc: 0.5003\n",
      "Epoch 14/100\n",
      "50000/50000 [==============================] - 13s 251us/step - loss: 1.3021 - acc: 0.5323 - val_loss: 1.4271 - val_acc: 0.4946\n",
      "Epoch 15/100\n",
      "50000/50000 [==============================] - 12s 236us/step - loss: 1.2875 - acc: 0.5386 - val_loss: 1.4208 - val_acc: 0.4973\n",
      "Epoch 16/100\n",
      "50000/50000 [==============================] - 12s 246us/step - loss: 1.2585 - acc: 0.5497 - val_loss: 1.4192 - val_acc: 0.5052\n",
      "Epoch 17/100\n",
      "50000/50000 [==============================] - 12s 249us/step - loss: 1.2336 - acc: 0.5586 - val_loss: 1.4167 - val_acc: 0.5064\n",
      "Epoch 18/100\n",
      "50000/50000 [==============================] - 11s 228us/step - loss: 1.2203 - acc: 0.5629 - val_loss: 1.3904 - val_acc: 0.5122\n",
      "Epoch 19/100\n",
      "50000/50000 [==============================] - 13s 259us/step - loss: 1.1912 - acc: 0.5713 - val_loss: 1.4201 - val_acc: 0.5116\n",
      "Epoch 20/100\n",
      "50000/50000 [==============================] - 13s 266us/step - loss: 1.1673 - acc: 0.5814 - val_loss: 1.3912 - val_acc: 0.5120\n",
      "Epoch 21/100\n",
      "50000/50000 [==============================] - 15s 304us/step - loss: 1.1627 - acc: 0.5834 - val_loss: 1.3964 - val_acc: 0.5180\n",
      "Epoch 22/100\n",
      "50000/50000 [==============================] - 13s 251us/step - loss: 1.1351 - acc: 0.5920 - val_loss: 1.3988 - val_acc: 0.5117\n",
      "Epoch 23/100\n",
      "50000/50000 [==============================] - 15s 298us/step - loss: 1.1228 - acc: 0.5947 - val_loss: 1.4407 - val_acc: 0.5004\n",
      "Epoch 24/100\n",
      "50000/50000 [==============================] - 16s 313us/step - loss: 1.1059 - acc: 0.6025 - val_loss: 1.4327 - val_acc: 0.5099\n",
      "Epoch 25/100\n",
      "50000/50000 [==============================] - 17s 343us/step - loss: 1.0844 - acc: 0.6099 - val_loss: 1.4141 - val_acc: 0.5165\n",
      "Epoch 26/100\n",
      "50000/50000 [==============================] - 12s 246us/step - loss: 1.0667 - acc: 0.6143 - val_loss: 1.4467 - val_acc: 0.5059\n",
      "Epoch 27/100\n",
      "50000/50000 [==============================] - 13s 258us/step - loss: 1.0473 - acc: 0.6224 - val_loss: 1.4514 - val_acc: 0.5138\n",
      "Epoch 28/100\n",
      "50000/50000 [==============================] - 12s 247us/step - loss: 1.0303 - acc: 0.6262 - val_loss: 1.4811 - val_acc: 0.5020\n",
      "Epoch 29/100\n",
      "50000/50000 [==============================] - 11s 226us/step - loss: 1.0170 - acc: 0.6326 - val_loss: 1.4858 - val_acc: 0.5142\n",
      "Epoch 30/100\n",
      "50000/50000 [==============================] - 11s 226us/step - loss: 0.9962 - acc: 0.6388 - val_loss: 1.4842 - val_acc: 0.5184\n",
      "Epoch 31/100\n",
      "50000/50000 [==============================] - 12s 247us/step - loss: 0.9760 - acc: 0.6464 - val_loss: 1.4868 - val_acc: 0.5160\n",
      "Epoch 32/100\n",
      "50000/50000 [==============================] - 12s 247us/step - loss: 0.9522 - acc: 0.6558 - val_loss: 1.5001 - val_acc: 0.5127\n",
      "Epoch 33/100\n",
      "50000/50000 [==============================] - 13s 252us/step - loss: 0.9476 - acc: 0.6578 - val_loss: 1.4988 - val_acc: 0.5198\n",
      "Epoch 34/100\n",
      "50000/50000 [==============================] - 12s 249us/step - loss: 0.9318 - acc: 0.6634 - val_loss: 1.4947 - val_acc: 0.5183\n",
      "Epoch 35/100\n",
      "50000/50000 [==============================] - 14s 280us/step - loss: 0.9188 - acc: 0.6678 - val_loss: 1.5504 - val_acc: 0.5183\n",
      "Epoch 36/100\n",
      "50000/50000 [==============================] - 14s 274us/step - loss: 0.8884 - acc: 0.6779 - val_loss: 1.5697 - val_acc: 0.5161\n",
      "Epoch 37/100\n",
      "50000/50000 [==============================] - 11s 220us/step - loss: 0.8688 - acc: 0.6848 - val_loss: 1.5505 - val_acc: 0.5142\n",
      "Epoch 38/100\n",
      "50000/50000 [==============================] - 11s 217us/step - loss: 0.8650 - acc: 0.6860 - val_loss: 1.5520 - val_acc: 0.5154\n",
      "Epoch 39/100\n",
      "50000/50000 [==============================] - 11s 217us/step - loss: 0.8514 - acc: 0.6906 - val_loss: 1.6084 - val_acc: 0.5121\n",
      "Epoch 40/100\n",
      "50000/50000 [==============================] - 14s 280us/step - loss: 0.8477 - acc: 0.6927 - val_loss: 1.6616 - val_acc: 0.5217\n",
      "Epoch 41/100\n",
      "50000/50000 [==============================] - 18s 355us/step - loss: 0.8114 - acc: 0.7052 - val_loss: 1.6329 - val_acc: 0.5079\n",
      "Epoch 42/100\n",
      "50000/50000 [==============================] - 16s 321us/step - loss: 0.8092 - acc: 0.7035 - val_loss: 1.7512 - val_acc: 0.5071\n",
      "Epoch 43/100\n",
      "50000/50000 [==============================] - 20s 392us/step - loss: 0.7842 - acc: 0.7143 - val_loss: 1.7407 - val_acc: 0.5152\n",
      "Epoch 44/100\n",
      "50000/50000 [==============================] - 17s 349us/step - loss: 0.7718 - acc: 0.7184 - val_loss: 1.7217 - val_acc: 0.5045\n",
      "Epoch 45/100\n",
      "50000/50000 [==============================] - 15s 304us/step - loss: 0.7588 - acc: 0.7235 - val_loss: 1.7245 - val_acc: 0.5166\n",
      "Epoch 46/100\n",
      "50000/50000 [==============================] - 18s 359us/step - loss: 0.7472 - acc: 0.7281 - val_loss: 1.7326 - val_acc: 0.5111\n",
      "Epoch 47/100\n",
      "50000/50000 [==============================] - 14s 289us/step - loss: 0.7386 - acc: 0.7299 - val_loss: 1.6981 - val_acc: 0.5187\n",
      "Epoch 48/100\n",
      "50000/50000 [==============================] - 12s 236us/step - loss: 0.7356 - acc: 0.7311 - val_loss: 1.7436 - val_acc: 0.5153\n",
      "Epoch 49/100\n",
      "50000/50000 [==============================] - 15s 298us/step - loss: 0.6964 - acc: 0.7463 - val_loss: 1.8676 - val_acc: 0.5061\n",
      "Epoch 50/100\n",
      "50000/50000 [==============================] - 13s 270us/step - loss: 0.6794 - acc: 0.7549 - val_loss: 1.8798 - val_acc: 0.5163\n",
      "Epoch 51/100\n",
      "50000/50000 [==============================] - 11s 228us/step - loss: 0.6718 - acc: 0.7538 - val_loss: 1.8057 - val_acc: 0.5034\n",
      "Epoch 52/100\n",
      "50000/50000 [==============================] - 11s 219us/step - loss: 0.6608 - acc: 0.7563 - val_loss: 1.9433 - val_acc: 0.5143\n",
      "Epoch 53/100\n",
      "50000/50000 [==============================] - 11s 219us/step - loss: 0.6704 - acc: 0.7552 - val_loss: 1.9191 - val_acc: 0.4999\n",
      "Epoch 54/100\n",
      "50000/50000 [==============================] - 11s 222us/step - loss: 0.6499 - acc: 0.7624 - val_loss: 1.9978 - val_acc: 0.5054\n",
      "Epoch 55/100\n",
      "50000/50000 [==============================] - 11s 219us/step - loss: 0.6348 - acc: 0.7671 - val_loss: 1.9194 - val_acc: 0.5091\n",
      "Epoch 56/100\n",
      "50000/50000 [==============================] - 11s 219us/step - loss: 0.6240 - acc: 0.7700 - val_loss: 1.9950 - val_acc: 0.5011\n",
      "Epoch 57/100\n",
      "50000/50000 [==============================] - 11s 218us/step - loss: 0.6136 - acc: 0.7748 - val_loss: 2.0557 - val_acc: 0.5031\n",
      "Epoch 58/100\n",
      "50000/50000 [==============================] - 11s 219us/step - loss: 0.6043 - acc: 0.7788 - val_loss: 2.0782 - val_acc: 0.5079\n"
     ]
    },
    {
     "name": "stdout",
     "output_type": "stream",
     "text": [
      "Epoch 59/100\n",
      "50000/50000 [==============================] - 11s 223us/step - loss: 0.5872 - acc: 0.7848 - val_loss: 2.1437 - val_acc: 0.5030\n",
      "Epoch 60/100\n",
      "50000/50000 [==============================] - 11s 219us/step - loss: 0.5920 - acc: 0.7830 - val_loss: 2.0298 - val_acc: 0.4995\n",
      "Epoch 61/100\n",
      "50000/50000 [==============================] - 11s 218us/step - loss: 0.5964 - acc: 0.7835 - val_loss: 2.1292 - val_acc: 0.5046\n",
      "Epoch 62/100\n",
      "50000/50000 [==============================] - 12s 236us/step - loss: 0.5721 - acc: 0.7915 - val_loss: 2.1311 - val_acc: 0.5140\n",
      "Epoch 63/100\n",
      "50000/50000 [==============================] - 11s 224us/step - loss: 0.5657 - acc: 0.7943 - val_loss: 2.1561 - val_acc: 0.5021\n",
      "Epoch 64/100\n",
      "50000/50000 [==============================] - 237s 5ms/step - loss: 0.5539 - acc: 0.7972 - val_loss: 2.1873 - val_acc: 0.5073\n",
      "Epoch 65/100\n",
      "50000/50000 [==============================] - 17s 331us/step - loss: 0.5489 - acc: 0.8006 - val_loss: 2.2219 - val_acc: 0.5016\n",
      "Epoch 66/100\n",
      "50000/50000 [==============================] - 17s 339us/step - loss: 0.5191 - acc: 0.8098 - val_loss: 2.3033 - val_acc: 0.4975\n",
      "Epoch 67/100\n",
      "50000/50000 [==============================] - 13s 255us/step - loss: 0.5359 - acc: 0.8046 - val_loss: 2.2030 - val_acc: 0.5002\n",
      "Epoch 68/100\n",
      "50000/50000 [==============================] - 12s 238us/step - loss: 0.5087 - acc: 0.8149 - val_loss: 2.2677 - val_acc: 0.5010\n",
      "Epoch 69/100\n",
      "50000/50000 [==============================] - 13s 251us/step - loss: 0.5081 - acc: 0.8135 - val_loss: 2.3165 - val_acc: 0.5026\n",
      "Epoch 70/100\n",
      "50000/50000 [==============================] - 13s 260us/step - loss: 0.5109 - acc: 0.8133 - val_loss: 2.2364 - val_acc: 0.5031\n",
      "Epoch 71/100\n",
      "50000/50000 [==============================] - 13s 269us/step - loss: 0.4983 - acc: 0.8167 - val_loss: 2.3458 - val_acc: 0.5053\n",
      "Epoch 72/100\n",
      "50000/50000 [==============================] - 14s 281us/step - loss: 0.4812 - acc: 0.8245 - val_loss: 2.2530 - val_acc: 0.5070\n",
      "Epoch 73/100\n",
      "50000/50000 [==============================] - 14s 290us/step - loss: 0.4732 - acc: 0.8265 - val_loss: 2.4802 - val_acc: 0.4982\n",
      "Epoch 74/100\n",
      "50000/50000 [==============================] - 27s 540us/step - loss: 0.4738 - acc: 0.8279 - val_loss: 2.3330 - val_acc: 0.5058\n",
      "Epoch 75/100\n",
      "50000/50000 [==============================] - 20s 398us/step - loss: 0.4686 - acc: 0.8282 - val_loss: 2.3851 - val_acc: 0.4994\n",
      "Epoch 76/100\n",
      "50000/50000 [==============================] - 15s 308us/step - loss: 0.4438 - acc: 0.8370 - val_loss: 2.4024 - val_acc: 0.5094\n",
      "Epoch 77/100\n",
      "50000/50000 [==============================] - 15s 294us/step - loss: 0.4453 - acc: 0.8361 - val_loss: 2.6785 - val_acc: 0.4984\n",
      "Epoch 78/100\n",
      "50000/50000 [==============================] - 13s 252us/step - loss: 0.4516 - acc: 0.8353 - val_loss: 2.5083 - val_acc: 0.5012\n",
      "Epoch 79/100\n",
      "50000/50000 [==============================] - 13s 270us/step - loss: 0.4504 - acc: 0.8371 - val_loss: 2.5098 - val_acc: 0.5007\n",
      "Epoch 80/100\n",
      "50000/50000 [==============================] - 13s 255us/step - loss: 0.4311 - acc: 0.8425 - val_loss: 2.4960 - val_acc: 0.5010\n",
      "Epoch 81/100\n",
      "50000/50000 [==============================] - 12s 247us/step - loss: 0.4315 - acc: 0.8422 - val_loss: 2.5853 - val_acc: 0.5030\n",
      "Epoch 82/100\n",
      "50000/50000 [==============================] - 12s 241us/step - loss: 0.4313 - acc: 0.8434 - val_loss: 2.5574 - val_acc: 0.5027\n",
      "Epoch 83/100\n",
      "50000/50000 [==============================] - 14s 288us/step - loss: 0.4108 - acc: 0.8505 - val_loss: 2.6210 - val_acc: 0.4954\n",
      "Epoch 84/100\n",
      "50000/50000 [==============================] - 14s 273us/step - loss: 0.4314 - acc: 0.8446 - val_loss: 2.5945 - val_acc: 0.5003\n",
      "Epoch 85/100\n",
      "50000/50000 [==============================] - 13s 267us/step - loss: 0.4120 - acc: 0.8508 - val_loss: 2.5358 - val_acc: 0.5015\n",
      "Epoch 86/100\n",
      "50000/50000 [==============================] - 12s 241us/step - loss: 0.4039 - acc: 0.8532 - val_loss: 2.5914 - val_acc: 0.5034\n",
      "Epoch 87/100\n",
      "50000/50000 [==============================] - 12s 247us/step - loss: 0.4038 - acc: 0.8545 - val_loss: 2.6533 - val_acc: 0.4976\n",
      "Epoch 88/100\n",
      "50000/50000 [==============================] - 14s 270us/step - loss: 0.4055 - acc: 0.8529 - val_loss: 2.6634 - val_acc: 0.5032\n",
      "Epoch 89/100\n",
      "50000/50000 [==============================] - 14s 283us/step - loss: 0.3872 - acc: 0.8603 - val_loss: 2.5959 - val_acc: 0.5023\n",
      "Epoch 90/100\n",
      "50000/50000 [==============================] - 15s 306us/step - loss: 0.3864 - acc: 0.8606 - val_loss: 2.6667 - val_acc: 0.4898\n",
      "Epoch 91/100\n",
      "50000/50000 [==============================] - 16s 316us/step - loss: 0.3769 - acc: 0.8643 - val_loss: 2.7102 - val_acc: 0.4814\n",
      "Epoch 92/100\n",
      "50000/50000 [==============================] - 15s 299us/step - loss: 0.3551 - acc: 0.8722 - val_loss: 2.6635 - val_acc: 0.4931\n",
      "Epoch 93/100\n",
      "50000/50000 [==============================] - 15s 302us/step - loss: 0.3712 - acc: 0.8659 - val_loss: 2.8929 - val_acc: 0.4887\n",
      "Epoch 94/100\n",
      "50000/50000 [==============================] - 12s 241us/step - loss: 0.3786 - acc: 0.8642 - val_loss: 2.7278 - val_acc: 0.4966\n",
      "Epoch 95/100\n",
      "50000/50000 [==============================] - 11s 226us/step - loss: 0.3551 - acc: 0.8715 - val_loss: 2.7002 - val_acc: 0.4965\n",
      "Epoch 96/100\n",
      "50000/50000 [==============================] - 12s 237us/step - loss: 0.3442 - acc: 0.8740 - val_loss: 2.8574 - val_acc: 0.4899\n",
      "Epoch 97/100\n",
      "50000/50000 [==============================] - 11s 226us/step - loss: 0.3520 - acc: 0.8724 - val_loss: 2.9343 - val_acc: 0.4957\n",
      "Epoch 98/100\n",
      "50000/50000 [==============================] - 11s 227us/step - loss: 0.3572 - acc: 0.8711 - val_loss: 2.6522 - val_acc: 0.4933\n",
      "Epoch 99/100\n",
      "50000/50000 [==============================] - 11s 225us/step - loss: 0.3482 - acc: 0.8736 - val_loss: 2.8097 - val_acc: 0.5009\n",
      "Epoch 100/100\n",
      "50000/50000 [==============================] - 11s 229us/step - loss: 0.3250 - acc: 0.8829 - val_loss: 2.8883 - val_acc: 0.4987\n"
     ]
    },
    {
     "data": {
      "text/plain": [
       "<keras.callbacks.History at 0x135df7ef0>"
      ]
     },
     "execution_count": 20,
     "metadata": {},
     "output_type": "execute_result"
    }
   ],
   "source": [
    "model.fit(x_train, y_train, \n",
    "          epochs=EPOCHS, \n",
    "          batch_size=BATCH_SIZE, \n",
    "          validation_data=(x_test, y_test), \n",
    "          shuffle=True)"
   ]
  },
  {
   "cell_type": "code",
   "execution_count": 22,
   "metadata": {},
   "outputs": [
    {
     "data": {
      "image/png": "[encoded data removed]",
      "text/plain": [
       "<Figure size 432x288 with 1 Axes>"
      ]
     },
     "metadata": {
      "needs_background": "light"
     },
     "output_type": "display_data"
    },
    {
     "data": {
      "image/png": "[encoded data removed]",
      "text/plain": [
       "<Figure size 432x288 with 1 Axes>"
      ]
     },
     "metadata": {
      "needs_background": "light"
     },
     "output_type": "display_data"
    }
   ],
   "source": [
    "import matplotlib.pyplot as plt\n",
    "\n",
    "\n",
    "train_loss = model.history.history[\"loss\"]\n",
    "valid_loss = model.history.history[\"val_loss\"]\n",
    "\n",
    "train_acc = model.history.history[\"acc\"]\n",
    "valid_acc = model.history.history[\"val_acc\"]\n",
    "\n",
    "plt.plot(range(len(train_loss)), train_loss, label=\"train loss\")\n",
    "plt.plot(range(len(valid_loss)), valid_loss, label=\"valid loss\")\n",
    "plt.legend()\n",
    "plt.title(\"Loss\")\n",
    "plt.show()\n",
    "\n",
    "plt.plot(range(len(train_acc)), train_acc, label=\"train accuracy\")\n",
    "plt.plot(range(len(valid_acc)), valid_acc, label=\"valid accuracy\")\n",
    "plt.legend()\n",
    "plt.title(\"Accuracy\")\n",
    "plt.show()"
   ]
  },
  {
   "cell_type": "code",
   "execution_count": null,
   "metadata": {},
   "outputs": [],
   "source": []
  }
 ],
 "metadata": {
  "kernelspec": {
   "display_name": "Python 3",
   "language": "python",
   "name": "python3"
  },
  "language_info": {
   "codemirror_mode": {
    "name": "ipython",
    "version": 3
   },
   "file_extension": ".py",
   "mimetype": "text/x-python",
   "name": "python",
   "nbconvert_exporter": "python",
   "pygments_lexer": "ipython3",
   "version": "3.7.3"
  }
 },
 "nbformat": 4,
 "nbformat_minor": 2
}
