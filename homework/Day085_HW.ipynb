{
 "cells": [
  {
   "cell_type": "markdown",
   "metadata": {},
   "source": [
    "## Work\n",
    "1. 試改變 monitor \"Validation Accuracy\" 並比較結果\n",
    "2. 調整 earlystop 的等待次數至 10, 25 並比較結果"
   ]
  },
  {
   "cell_type": "code",
   "execution_count": 1,
   "metadata": {},
   "outputs": [
    {
     "name": "stderr",
     "output_type": "stream",
     "text": [
      "Using TensorFlow backend.\n",
      "/Users/chibaryowei/anaconda3/lib/python3.7/site-packages/tensorflow/python/framework/dtypes.py:516: FutureWarning: Passing (type, 1) or '1type' as a synonym of type is deprecated; in a future version of numpy, it will be understood as (type, (1,)) / '(1,)type'.\n",
      "  _np_qint8 = np.dtype([(\"qint8\", np.int8, 1)])\n",
      "/Users/chibaryowei/anaconda3/lib/python3.7/site-packages/tensorflow/python/framework/dtypes.py:517: FutureWarning: Passing (type, 1) or '1type' as a synonym of type is deprecated; in a future version of numpy, it will be understood as (type, (1,)) / '(1,)type'.\n",
      "  _np_quint8 = np.dtype([(\"quint8\", np.uint8, 1)])\n",
      "/Users/chibaryowei/anaconda3/lib/python3.7/site-packages/tensorflow/python/framework/dtypes.py:518: FutureWarning: Passing (type, 1) or '1type' as a synonym of type is deprecated; in a future version of numpy, it will be understood as (type, (1,)) / '(1,)type'.\n",
      "  _np_qint16 = np.dtype([(\"qint16\", np.int16, 1)])\n",
      "/Users/chibaryowei/anaconda3/lib/python3.7/site-packages/tensorflow/python/framework/dtypes.py:519: FutureWarning: Passing (type, 1) or '1type' as a synonym of type is deprecated; in a future version of numpy, it will be understood as (type, (1,)) / '(1,)type'.\n",
      "  _np_quint16 = np.dtype([(\"quint16\", np.uint16, 1)])\n",
      "/Users/chibaryowei/anaconda3/lib/python3.7/site-packages/tensorflow/python/framework/dtypes.py:520: FutureWarning: Passing (type, 1) or '1type' as a synonym of type is deprecated; in a future version of numpy, it will be understood as (type, (1,)) / '(1,)type'.\n",
      "  _np_qint32 = np.dtype([(\"qint32\", np.int32, 1)])\n",
      "/Users/chibaryowei/anaconda3/lib/python3.7/site-packages/tensorflow/python/framework/dtypes.py:525: FutureWarning: Passing (type, 1) or '1type' as a synonym of type is deprecated; in a future version of numpy, it will be understood as (type, (1,)) / '(1,)type'.\n",
      "  np_resource = np.dtype([(\"resource\", np.ubyte, 1)])\n",
      "/Users/chibaryowei/anaconda3/lib/python3.7/site-packages/tensorboard/compat/tensorflow_stub/dtypes.py:541: FutureWarning: Passing (type, 1) or '1type' as a synonym of type is deprecated; in a future version of numpy, it will be understood as (type, (1,)) / '(1,)type'.\n",
      "  _np_qint8 = np.dtype([(\"qint8\", np.int8, 1)])\n",
      "/Users/chibaryowei/anaconda3/lib/python3.7/site-packages/tensorboard/compat/tensorflow_stub/dtypes.py:542: FutureWarning: Passing (type, 1) or '1type' as a synonym of type is deprecated; in a future version of numpy, it will be understood as (type, (1,)) / '(1,)type'.\n",
      "  _np_quint8 = np.dtype([(\"quint8\", np.uint8, 1)])\n",
      "/Users/chibaryowei/anaconda3/lib/python3.7/site-packages/tensorboard/compat/tensorflow_stub/dtypes.py:543: FutureWarning: Passing (type, 1) or '1type' as a synonym of type is deprecated; in a future version of numpy, it will be understood as (type, (1,)) / '(1,)type'.\n",
      "  _np_qint16 = np.dtype([(\"qint16\", np.int16, 1)])\n",
      "/Users/chibaryowei/anaconda3/lib/python3.7/site-packages/tensorboard/compat/tensorflow_stub/dtypes.py:544: FutureWarning: Passing (type, 1) or '1type' as a synonym of type is deprecated; in a future version of numpy, it will be understood as (type, (1,)) / '(1,)type'.\n",
      "  _np_quint16 = np.dtype([(\"quint16\", np.uint16, 1)])\n",
      "/Users/chibaryowei/anaconda3/lib/python3.7/site-packages/tensorboard/compat/tensorflow_stub/dtypes.py:545: FutureWarning: Passing (type, 1) or '1type' as a synonym of type is deprecated; in a future version of numpy, it will be understood as (type, (1,)) / '(1,)type'.\n",
      "  _np_qint32 = np.dtype([(\"qint32\", np.int32, 1)])\n",
      "/Users/chibaryowei/anaconda3/lib/python3.7/site-packages/tensorboard/compat/tensorflow_stub/dtypes.py:550: FutureWarning: Passing (type, 1) or '1type' as a synonym of type is deprecated; in a future version of numpy, it will be understood as (type, (1,)) / '(1,)type'.\n",
      "  np_resource = np.dtype([(\"resource\", np.ubyte, 1)])\n"
     ]
    }
   ],
   "source": [
    "import os\n",
    "import keras\n",
    "import matplotlib.pyplot as plt\n",
    "%matplotlib inline\n",
    "\n",
    "\n",
    "# Disable GPU\n",
    "os.environ[\"CUDA_VISIBLE_DEVICES\"] = \"\""
   ]
  },
  {
   "cell_type": "code",
   "execution_count": 2,
   "metadata": {},
   "outputs": [],
   "source": [
    "train, test = keras.datasets.cifar10.load_data()"
   ]
  },
  {
   "cell_type": "code",
   "execution_count": 3,
   "metadata": {},
   "outputs": [],
   "source": [
    "## 資料前處理\n",
    "def preproc_x(x, flatten=True):\n",
    "    x = x / 255.\n",
    "    if flatten:\n",
    "        x = x.reshape((len(x), -1))\n",
    "    return x\n",
    "\n",
    "def preproc_y(y, num_classes=10):\n",
    "    if y.shape[-1] == 1:\n",
    "        y = keras.utils.to_categorical(y, num_classes)\n",
    "    return y    "
   ]
  },
  {
   "cell_type": "code",
   "execution_count": 4,
   "metadata": {},
   "outputs": [],
   "source": [
    "x_train, y_train = train\n",
    "x_test, y_test = test\n",
    "\n",
    "# Preproc the inputs\n",
    "x_train = preproc_x(x_train)\n",
    "x_test = preproc_x(x_test)\n",
    "\n",
    "# Preprc the outputs\n",
    "y_train = preproc_y(y_train)\n",
    "y_test = preproc_y(y_test)"
   ]
  },
  {
   "cell_type": "code",
   "execution_count": 5,
   "metadata": {},
   "outputs": [],
   "source": [
    "\n",
    "from keras.layers import BatchNormalization\n",
    "\n",
    "\"\"\"\n",
    "建立神經網路，並加入 BN layer\n",
    "\"\"\"\n",
    "def build_mlp(input_shape, output_units=10, num_neurons=[512, 256, 128]):\n",
    "    input_layer = keras.layers.Input(input_shape)\n",
    "    \n",
    "    for i, n_units in enumerate(num_neurons):\n",
    "        if i == 0:\n",
    "            x = keras.layers.Dense(units=n_units, \n",
    "                                   activation=\"relu\", \n",
    "                                   name=\"hidden_layer\"+str(i+1))(input_layer)\n",
    "            x = BatchNormalization()(x)\n",
    "        else:\n",
    "            x = keras.layers.Dense(units=n_units, \n",
    "                                   activation=\"relu\", \n",
    "                                   name=\"hidden_layer\"+str(i+1))(x)\n",
    "            x = BatchNormalization()(x)\n",
    "    \n",
    "    out = keras.layers.Dense(units=output_units, activation=\"softmax\", name=\"output\")(x)\n",
    "    \n",
    "    model = keras.models.Model(inputs=[input_layer], outputs=[out])\n",
    "    return model"
   ]
  },
  {
   "cell_type": "code",
   "execution_count": 6,
   "metadata": {},
   "outputs": [],
   "source": [
    "\"\"\"Code Here\n",
    "設定超參數\n",
    "\"\"\"\n",
    "## 超參數設定\n",
    "LEARNING_RATE = 0.01\n",
    "EPOCHS = 20\n",
    "BATCH_SIZE = 1024\n",
    "MOMENTUM = 0.5\n",
    "\n",
    "PATIENCE = [10,25]"
   ]
  },
  {
   "cell_type": "code",
   "execution_count": 7,
   "metadata": {},
   "outputs": [
    {
     "name": "stderr",
     "output_type": "stream",
     "text": [
      "WARNING: Logging before flag parsing goes to stderr.\n",
      "W0719 22:08:56.974565 4575110592 deprecation_wrapper.py:119] From /Users/chibaryowei/anaconda3/lib/python3.7/site-packages/keras/backend/tensorflow_backend.py:95: The name tf.reset_default_graph is deprecated. Please use tf.compat.v1.reset_default_graph instead.\n",
      "\n",
      "W0719 22:08:56.981079 4575110592 deprecation_wrapper.py:119] From /Users/chibaryowei/anaconda3/lib/python3.7/site-packages/keras/backend/tensorflow_backend.py:98: The name tf.placeholder_with_default is deprecated. Please use tf.compat.v1.placeholder_with_default instead.\n",
      "\n",
      "W0719 22:08:57.046384 4575110592 deprecation_wrapper.py:119] From /Users/chibaryowei/anaconda3/lib/python3.7/site-packages/keras/backend/tensorflow_backend.py:102: The name tf.get_default_graph is deprecated. Please use tf.compat.v1.get_default_graph instead.\n",
      "\n",
      "W0719 22:08:57.049223 4575110592 deprecation_wrapper.py:119] From /Users/chibaryowei/anaconda3/lib/python3.7/site-packages/keras/backend/tensorflow_backend.py:517: The name tf.placeholder is deprecated. Please use tf.compat.v1.placeholder instead.\n",
      "\n",
      "W0719 22:08:57.057388 4575110592 deprecation_wrapper.py:119] From /Users/chibaryowei/anaconda3/lib/python3.7/site-packages/keras/backend/tensorflow_backend.py:4138: The name tf.random_uniform is deprecated. Please use tf.random.uniform instead.\n",
      "\n"
     ]
    },
    {
     "name": "stdout",
     "output_type": "stream",
     "text": [
      "Experiment with PATIENCE = 10.000000\n"
     ]
    },
    {
     "name": "stderr",
     "output_type": "stream",
     "text": [
      "W0719 22:08:57.434674 4575110592 deprecation_wrapper.py:119] From /Users/chibaryowei/anaconda3/lib/python3.7/site-packages/keras/optimizers.py:790: The name tf.train.Optimizer is deprecated. Please use tf.compat.v1.train.Optimizer instead.\n",
      "\n",
      "W0719 22:08:57.581542 4575110592 deprecation.py:323] From /Users/chibaryowei/anaconda3/lib/python3.7/site-packages/tensorflow/python/ops/math_grad.py:1250: add_dispatch_support.<locals>.wrapper (from tensorflow.python.ops.array_ops) is deprecated and will be removed in a future version.\n",
      "Instructions for updating:\n",
      "Use tf.where in 2.0, which has the same broadcast rule as np.where\n"
     ]
    },
    {
     "name": "stdout",
     "output_type": "stream",
     "text": [
      "_________________________________________________________________\n",
      "Layer (type)                 Output Shape              Param #   \n",
      "=================================================================\n",
      "input_1 (InputLayer)         (None, 3072)              0         \n",
      "_________________________________________________________________\n",
      "hidden_layer1 (Dense)        (None, 512)               1573376   \n",
      "_________________________________________________________________\n",
      "batch_normalization_1 (Batch (None, 512)               2048      \n",
      "_________________________________________________________________\n",
      "hidden_layer2 (Dense)        (None, 256)               131328    \n",
      "_________________________________________________________________\n",
      "batch_normalization_2 (Batch (None, 256)               1024      \n",
      "_________________________________________________________________\n",
      "hidden_layer3 (Dense)        (None, 128)               32896     \n",
      "_________________________________________________________________\n",
      "batch_normalization_3 (Batch (None, 128)               512       \n",
      "_________________________________________________________________\n",
      "output (Dense)               (None, 10)                1290      \n",
      "=================================================================\n",
      "Total params: 1,742,474\n",
      "Trainable params: 1,740,682\n",
      "Non-trainable params: 1,792\n",
      "_________________________________________________________________\n",
      "Train on 50000 samples, validate on 10000 samples\n",
      "Epoch 1/20\n",
      "50000/50000 [==============================] - 9s 186us/step - loss: 2.0378 - acc: 0.3102 - val_loss: 2.0148 - val_acc: 0.3397\n",
      "Epoch 2/20\n",
      "50000/50000 [==============================] - 8s 166us/step - loss: 1.6936 - acc: 0.4105 - val_loss: 1.7665 - val_acc: 0.3942\n",
      "Epoch 3/20\n",
      "50000/50000 [==============================] - 9s 183us/step - loss: 1.5857 - acc: 0.4469 - val_loss: 1.6773 - val_acc: 0.4178\n",
      "Epoch 4/20\n",
      "50000/50000 [==============================] - 10s 194us/step - loss: 1.5137 - acc: 0.4709 - val_loss: 1.6554 - val_acc: 0.4260\n",
      "Epoch 5/20\n",
      "50000/50000 [==============================] - 13s 258us/step - loss: 1.4609 - acc: 0.4915 - val_loss: 1.6019 - val_acc: 0.4351\n",
      "Epoch 6/20\n",
      "50000/50000 [==============================] - 11s 226us/step - loss: 1.4173 - acc: 0.5050 - val_loss: 1.5741 - val_acc: 0.4478\n",
      "Epoch 7/20\n",
      "50000/50000 [==============================] - 11s 230us/step - loss: 1.3775 - acc: 0.5196 - val_loss: 1.5720 - val_acc: 0.4504\n",
      "Epoch 8/20\n",
      "50000/50000 [==============================] - 8s 156us/step - loss: 1.3445 - acc: 0.5306 - val_loss: 1.5509 - val_acc: 0.4554\n",
      "Epoch 9/20\n",
      "50000/50000 [==============================] - 8s 160us/step - loss: 1.3128 - acc: 0.5419 - val_loss: 1.5405 - val_acc: 0.4581\n",
      "Epoch 10/20\n",
      "50000/50000 [==============================] - 8s 162us/step - loss: 1.2818 - acc: 0.5538 - val_loss: 1.5096 - val_acc: 0.4703\n",
      "Epoch 11/20\n",
      "50000/50000 [==============================] - 11s 226us/step - loss: 1.2549 - acc: 0.5653 - val_loss: 1.5078 - val_acc: 0.4693\n",
      "Epoch 12/20\n",
      "50000/50000 [==============================] - 10s 204us/step - loss: 1.2296 - acc: 0.5732 - val_loss: 1.4980 - val_acc: 0.4757\n",
      "Epoch 13/20\n",
      "50000/50000 [==============================] - 9s 175us/step - loss: 1.2045 - acc: 0.5821 - val_loss: 1.5203 - val_acc: 0.4691\n",
      "Epoch 14/20\n",
      "50000/50000 [==============================] - 7s 147us/step - loss: 1.1792 - acc: 0.5923 - val_loss: 1.5013 - val_acc: 0.4769\n",
      "Epoch 15/20\n",
      "50000/50000 [==============================] - 9s 174us/step - loss: 1.1556 - acc: 0.5981 - val_loss: 1.4889 - val_acc: 0.4801\n",
      "Epoch 16/20\n",
      "50000/50000 [==============================] - 9s 176us/step - loss: 1.1321 - acc: 0.6105 - val_loss: 1.5012 - val_acc: 0.4795\n",
      "Epoch 17/20\n",
      "50000/50000 [==============================] - 7s 146us/step - loss: 1.1119 - acc: 0.6182 - val_loss: 1.4969 - val_acc: 0.4810\n",
      "Epoch 18/20\n",
      "50000/50000 [==============================] - 9s 173us/step - loss: 1.0881 - acc: 0.6259 - val_loss: 1.5462 - val_acc: 0.4674\n",
      "Epoch 19/20\n",
      "50000/50000 [==============================] - 10s 198us/step - loss: 1.0671 - acc: 0.6351 - val_loss: 1.4896 - val_acc: 0.4873\n",
      "Epoch 20/20\n",
      "50000/50000 [==============================] - 9s 175us/step - loss: 1.0452 - acc: 0.6425 - val_loss: 1.4802 - val_acc: 0.4875\n",
      "Experiment with PATIENCE = 25.000000\n",
      "_________________________________________________________________\n",
      "Layer (type)                 Output Shape              Param #   \n",
      "=================================================================\n",
      "input_1 (InputLayer)         (None, 3072)              0         \n",
      "_________________________________________________________________\n",
      "hidden_layer1 (Dense)        (None, 512)               1573376   \n",
      "_________________________________________________________________\n",
      "batch_normalization_1 (Batch (None, 512)               2048      \n",
      "_________________________________________________________________\n",
      "hidden_layer2 (Dense)        (None, 256)               131328    \n",
      "_________________________________________________________________\n",
      "batch_normalization_2 (Batch (None, 256)               1024      \n",
      "_________________________________________________________________\n",
      "hidden_layer3 (Dense)        (None, 128)               32896     \n",
      "_________________________________________________________________\n",
      "batch_normalization_3 (Batch (None, 128)               512       \n",
      "_________________________________________________________________\n",
      "output (Dense)               (None, 10)                1290      \n",
      "=================================================================\n",
      "Total params: 1,742,474\n",
      "Trainable params: 1,740,682\n",
      "Non-trainable params: 1,792\n",
      "_________________________________________________________________\n",
      "Train on 50000 samples, validate on 10000 samples\n",
      "Epoch 1/20\n",
      "50000/50000 [==============================] - 8s 169us/step - loss: 2.0198 - acc: 0.3151 - val_loss: 1.9244 - val_acc: 0.3553\n",
      "Epoch 2/20\n",
      "50000/50000 [==============================] - 10s 197us/step - loss: 1.6914 - acc: 0.4100 - val_loss: 1.7459 - val_acc: 0.3951\n",
      "Epoch 3/20\n",
      "50000/50000 [==============================] - 10s 209us/step - loss: 1.5864 - acc: 0.4424 - val_loss: 1.6616 - val_acc: 0.4158\n",
      "Epoch 4/20\n",
      "50000/50000 [==============================] - 10s 205us/step - loss: 1.5172 - acc: 0.4695 - val_loss: 1.6049 - val_acc: 0.4364\n",
      "Epoch 5/20\n",
      "50000/50000 [==============================] - 9s 174us/step - loss: 1.4651 - acc: 0.4867 - val_loss: 1.5842 - val_acc: 0.4454\n",
      "Epoch 6/20\n",
      "50000/50000 [==============================] - 8s 151us/step - loss: 1.4205 - acc: 0.5017 - val_loss: 1.5537 - val_acc: 0.4535\n",
      "Epoch 7/20\n",
      "50000/50000 [==============================] - 12s 241us/step - loss: 1.3817 - acc: 0.5161 - val_loss: 1.5398 - val_acc: 0.4603\n",
      "Epoch 8/20\n",
      "50000/50000 [==============================] - 10s 203us/step - loss: 1.3473 - acc: 0.5285 - val_loss: 1.5271 - val_acc: 0.4653\n",
      "Epoch 9/20\n",
      "50000/50000 [==============================] - 9s 184us/step - loss: 1.3179 - acc: 0.5388 - val_loss: 1.4963 - val_acc: 0.4700\n",
      "Epoch 10/20\n",
      "50000/50000 [==============================] - 11s 218us/step - loss: 1.2882 - acc: 0.5502 - val_loss: 1.5040 - val_acc: 0.4624\n",
      "Epoch 11/20\n",
      "50000/50000 [==============================] - 9s 186us/step - loss: 1.2615 - acc: 0.5594 - val_loss: 1.5015 - val_acc: 0.4720\n",
      "Epoch 12/20\n",
      "50000/50000 [==============================] - 9s 183us/step - loss: 1.2364 - acc: 0.5702 - val_loss: 1.4961 - val_acc: 0.4740\n",
      "Epoch 13/20\n",
      "50000/50000 [==============================] - 10s 207us/step - loss: 1.2120 - acc: 0.5781 - val_loss: 1.4856 - val_acc: 0.4786\n",
      "Epoch 14/20\n",
      "50000/50000 [==============================] - 10s 200us/step - loss: 1.1896 - acc: 0.5859 - val_loss: 1.4842 - val_acc: 0.4803\n",
      "Epoch 15/20\n",
      "50000/50000 [==============================] - 9s 179us/step - loss: 1.1665 - acc: 0.5950 - val_loss: 1.4842 - val_acc: 0.4808\n",
      "Epoch 16/20\n",
      "50000/50000 [==============================] - 9s 179us/step - loss: 1.1431 - acc: 0.6038 - val_loss: 1.4864 - val_acc: 0.4750\n",
      "Epoch 17/20\n",
      "50000/50000 [==============================] - 9s 178us/step - loss: 1.1199 - acc: 0.6139 - val_loss: 1.4812 - val_acc: 0.4843\n",
      "Epoch 18/20\n",
      "50000/50000 [==============================] - 9s 185us/step - loss: 1.1018 - acc: 0.6192 - val_loss: 1.4664 - val_acc: 0.4830\n"
     ]
    },
    {
     "name": "stdout",
     "output_type": "stream",
     "text": [
      "Epoch 19/20\n",
      "50000/50000 [==============================] - 10s 205us/step - loss: 1.0800 - acc: 0.6287 - val_loss: 1.4663 - val_acc: 0.4900\n",
      "Epoch 20/20\n",
      "50000/50000 [==============================] - 9s 189us/step - loss: 1.0602 - acc: 0.6347 - val_loss: 1.4570 - val_acc: 0.4877\n"
     ]
    }
   ],
   "source": [
    "\n",
    "\"\"\"\n",
    "# 載入 Callbacks, 並將 monitor 設定為監控 validation loss\n",
    "\"\"\"\n",
    "from keras.callbacks import EarlyStopping\n",
    "\n",
    "\n",
    "\n",
    "\n",
    "results = {}\n",
    "\"\"\"Code Here\n",
    "撰寫你的訓練流程並將結果用 dictionary 紀錄\n",
    "\"\"\"\n",
    "for patient in PATIENCE:\n",
    "    keras.backend.clear_session() # 把舊的 Graph 清掉\n",
    "    print(\"Experiment with PATIENCE = %.6f\" % (patient))\n",
    "    model = build_mlp(input_shape=x_train.shape[1:])\n",
    "    model.summary()\n",
    "    optimizer = keras.optimizers.SGD(lr=LEARNING_RATE, nesterov=True, momentum=MOMENTUM)\n",
    "    model.compile(loss=\"categorical_crossentropy\", metrics=[\"accuracy\"], optimizer=optimizer)\n",
    "    earlystop = EarlyStopping(monitor = \"val_acc\", \n",
    "                              patience = patient, \n",
    "                              verbose = 1\n",
    "                              )\n",
    "    model.fit(x_train, y_train, \n",
    "              epochs=EPOCHS, \n",
    "              batch_size=BATCH_SIZE, \n",
    "              validation_data=(x_test, y_test), \n",
    "              shuffle=True,\n",
    "              callbacks=[earlystop]\n",
    "             )\n",
    "\n",
    "    # Collect results\n",
    "    train_loss = model.history.history[\"loss\"]\n",
    "    valid_loss = model.history.history[\"val_loss\"]\n",
    "    train_acc = model.history.history[\"acc\"]\n",
    "    valid_acc = model.history.history[\"val_acc\"]\n",
    "    \n",
    "    exp_name_tag = \"exp-PATIENCE-%s\" % str(patient)\n",
    "    \n",
    "    results[exp_name_tag] = {'train-loss': train_loss,\n",
    "                             'valid-loss': valid_loss,\n",
    "                             'train-acc': train_acc,\n",
    "                             'valid-acc': valid_acc}"
   ]
  },
  {
   "cell_type": "code",
   "execution_count": 8,
   "metadata": {},
   "outputs": [
    {
     "data": {
      "image/png": "[encoded data removed]",
      "text/plain": [
       "<Figure size 576x432 with 1 Axes>"
      ]
     },
     "metadata": {
      "needs_background": "light"
     },
     "output_type": "display_data"
    },
    {
     "data": {
      "image/png": "[encoded data removed]",
      "text/plain": [
       "<Figure size 576x432 with 1 Axes>"
      ]
     },
     "metadata": {
      "needs_background": "light"
     },
     "output_type": "display_data"
    }
   ],
   "source": [
    "import matplotlib.pyplot as plt\n",
    "%matplotlib inline\n",
    "\"\"\"Code Here\n",
    "將結果繪出\n",
    "\"\"\"\n",
    "\n",
    "import matplotlib.pyplot as plt\n",
    "%matplotlib inline\n",
    "color_bar = [\"r\", \"g\", \"b\", \"y\", \"m\", \"k\"]\n",
    "\n",
    "plt.figure(figsize=(8,6))\n",
    "for i, cond in enumerate(results.keys()):\n",
    "    plt.plot(range(len(results[cond]['train-loss'])),results[cond]['train-loss'], '-', label=cond, color=color_bar[i])\n",
    "    plt.plot(range(len(results[cond]['valid-loss'])),results[cond]['valid-loss'], '--', label=cond, color=color_bar[i])\n",
    "plt.title(\"Loss\")\n",
    "plt.legend()\n",
    "plt.show()\n",
    "\n",
    "plt.figure(figsize=(8,6))\n",
    "for i, cond in enumerate(results.keys()):\n",
    "    plt.plot(range(len(results[cond]['train-acc'])),results[cond]['train-acc'], '-', label=cond, color=color_bar[i])\n",
    "    plt.plot(range(len(results[cond]['valid-acc'])),results[cond]['valid-acc'], '--', label=cond, color=color_bar[i])\n",
    "plt.title(\"Accuracy\")\n",
    "plt.legend()\n",
    "plt.show()"
   ]
  },
  {
   "cell_type": "code",
   "execution_count": null,
   "metadata": {},
   "outputs": [],
   "source": []
  }
 ],
 "metadata": {
  "kernelspec": {
   "display_name": "Python 3",
   "language": "python",
   "name": "python3"
  },
  "language_info": {
   "codemirror_mode": {
    "name": "ipython",
    "version": 3
   },
   "file_extension": ".py",
   "mimetype": "text/x-python",
   "name": "python",
   "nbconvert_exporter": "python",
   "pygments_lexer": "ipython3",
   "version": "3.7.3"
  }
 },
 "nbformat": 4,
 "nbformat_minor": 2
}
