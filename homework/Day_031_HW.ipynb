{
 "cells": [
  {
   "cell_type": "markdown",
   "metadata": {},
   "source": [
    "# 請找出一個你認為機器學習可以發光發熱的領域並闡述原因?\n",
    "\n",
    "我認為最近ＡＩ醫療是目前蠻熱門的領域\n",
    "主要是以目前的硬體設備，還有ＤＬ的技術，透過影像偵測更精確的判別譬如說預測腫瘤，預測相關疾病等等，再應用到商機。\n",
    "\n",
    "聊天機器人也"
   ]
  }
 ],
 "metadata": {
  "kernelspec": {
   "display_name": "Python 2",
   "language": "python",
   "name": "python2"
  },
  "language_info": {
   "codemirror_mode": {
    "name": "ipython",
    "version": 2
   },
   "file_extension": ".py",
   "mimetype": "text/x-python",
   "name": "python",
   "nbconvert_exporter": "python",
   "pygments_lexer": "ipython2",
   "version": "2.7.16"
  },
  "widgets": {
   "state": {},
   "version": "1.1.2"
  }
 },
 "nbformat": 4,
 "nbformat_minor": 2
}
